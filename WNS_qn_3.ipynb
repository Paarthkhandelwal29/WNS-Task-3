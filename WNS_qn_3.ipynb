{
  "nbformat": 4,
  "nbformat_minor": 0,
  "metadata": {
    "colab": {
      "provenance": [],
      "authorship_tag": "ABX9TyOTrn/ggf1d551RnGNUKP0O",
      "include_colab_link": true
    },
    "kernelspec": {
      "name": "python3",
      "display_name": "Python 3"
    },
    "language_info": {
      "name": "python"
    }
  },
  "cells": [
    {
      "cell_type": "markdown",
      "metadata": {
        "id": "view-in-github",
        "colab_type": "text"
      },
      "source": [
        "<a href=\"https://colab.research.google.com/github/Paarthkhandelwal29/WNS-Task-3/blob/main/WNS_qn_3.ipynb\" target=\"_parent\"><img src=\"https://colab.research.google.com/assets/colab-badge.svg\" alt=\"Open In Colab\"/></a>"
      ]
    },
    {
      "cell_type": "code",
      "execution_count": 1,
      "metadata": {
        "colab": {
          "base_uri": "https://localhost:8080/"
        },
        "id": "GBn8xQdORUzv",
        "outputId": "d77c51fc-730a-4824-ec45-1b8b9fd918e3"
      },
      "outputs": [
        {
          "output_type": "stream",
          "name": "stdout",
          "text": [
            "Enter the string: Apple\n",
            "Result: Ape\n"
          ]
        }
      ],
      "source": [
        "def removeFunction(string):\n",
        "    result = \"\"\n",
        "    length = len(string)\n",
        "\n",
        "    for i in range(length):\n",
        "        if i % 2 == 0:\n",
        "            result += string[i]\n",
        "    return result\n",
        "\n",
        "input_string = input(\"Enter the string: \")\n",
        "\n",
        "result_string = removeFunction(input_string)\n",
        "\n",
        "print(\"Result:\", result_string)"
      ]
    }
  ]
}